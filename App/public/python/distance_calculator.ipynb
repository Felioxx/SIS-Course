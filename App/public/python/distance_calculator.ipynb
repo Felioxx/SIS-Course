{
 "cells": [
  {
   "cell_type": "code",
   "execution_count": null,
   "metadata": {},
   "outputs": [
    {
     "name": "stdout",
     "output_type": "stream",
     "text": [
      "Polygon(Point2D(4, 2), Point2D(5, 0), Point2D(6, 1), Point2D(5, 2))\n",
      "8*sqrt(5)/5\n"
     ]
    }
   ],
   "source": [
    "# to calculate the minimum distance between two polygons\n",
    "\n",
    "from sympy import Point, Polygon\n",
    "\n",
    "bsp = [(4, 2), (5, 0), (6,1),(5, 2)]\n",
    "\n",
    "points=[]\n",
    "for i in range(len(bsp)):\n",
    "    i = Point(bsp[i])\n",
    "    points.append(i)\n",
    "t = tuple(points)\n",
    "p = Polygon(*t)\n",
    "print(p)\n",
    "\n",
    "p5, p6, p7 = map(Point, [(0, 2), (0, 0), (1, 0)])\n",
    "poly2 = Polygon(p5, p6, p7) \n",
    "  \n",
    "# using distance() \n",
    "shortestDistance = p.distance(poly2)\n",
    "  \n",
    "print(shortestDistance)\n"
   ]
  }
 ],
 "metadata": {
  "kernelspec": {
   "display_name": "arcgispro-py3",
   "language": "python",
   "name": "python3"
  },
  "language_info": {
   "codemirror_mode": {
    "name": "ipython",
    "version": 3
   },
   "file_extension": ".py",
   "mimetype": "text/x-python",
   "name": "python",
   "nbconvert_exporter": "python",
   "pygments_lexer": "ipython3",
   "version": "3.9.18"
  }
 },
 "nbformat": 4,
 "nbformat_minor": 2
}
