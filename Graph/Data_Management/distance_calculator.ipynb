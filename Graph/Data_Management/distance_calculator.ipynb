{
 "cells": [
  {
   "cell_type": "code",
   "execution_count": 26,
   "metadata": {},
   "outputs": [],
   "source": [
    "# to calculate the minimum distance between two polygons\n",
    "\n",
    "#from sympy import Point, Polygon as sy\n",
    "import sympy as sy\n",
    "from shapely.geometry import Point, Polygon\n",
    "import geopandas\n",
    "import pandas as pd\n",
    "import geojson\n",
    "import json\n",
    "#import shapefile\n",
    "\n",
    "myshpfile = geopandas.read_file('C:/Users/Felix/Desktop/Studium/Uni Fächer/Master/2. Semester/Spatial Information Search/SIS-Course/Graph/Data_Management/Shapes/cities.shp')\n",
    "myshpfile.to_file('cities.geojson', driver='GeoJSON')\n",
    "#city_csv = geopandas.read_file(\"distances.csv\")\n",
    "cities = geopandas.read_file(\"cities.geojson\")\n",
    "#cities = cities.to_json()\n"
   ]
  },
  {
   "cell_type": "code",
   "execution_count": 22,
   "metadata": {},
   "outputs": [],
   "source": [
    "import geopandas\n",
    "# read in the districts and administrative districts\n",
    "myshpfile = geopandas.read_file('C:/Users/Felix/Desktop/Studium/Uni Fächer/Master/2. Semester/Spatial Information Search/SIS-Course/Graph/Data_Management/Shapes/districts.shp')\n",
    "myshpfile.to_file('districts.geojson', driver='GeoJSON')\n",
    "#city_csv = geopandas.read_file(\"distances.csv\")\n",
    "cities = geopandas.read_file(\"districts.geojson\")"
   ]
  },
  {
   "cell_type": "code",
   "execution_count": 27,
   "metadata": {},
   "outputs": [],
   "source": [
    "def point_to_array(p):\n",
    "\n",
    "    pointA = p.replace(\"POINT (\", \"\").replace(\")\", \"\").split(\" \")\n",
    "\n",
    "    # pointAx = ''\n",
    "    # for i in range(7,21):\n",
    "    #     pointAx = pointAx + p[i]\n",
    "\n",
    "    # pointAy = ''\n",
    "    # for i in range(25,38):\n",
    "    #     pointAy = pointAy + p[i]\n",
    "\n",
    "    # pointA = [pointAx, pointAy]\n",
    "    \n",
    "    return pointA\n"
   ]
  },
  {
   "cell_type": "code",
   "execution_count": 29,
   "metadata": {},
   "outputs": [],
   "source": [
    "import centroid\n",
    "import pandas as pd\n",
    "city1 = []\n",
    "city2 = []\n",
    "distance = []\n",
    "rel = []\n",
    "for i in range(len(cities)):\n",
    "     for j in range(len(cities)):\n",
    "        city1.append(cities.loc[i][\"ID\"])\n",
    "        city2.append(cities.loc[j][\"ID\"])\n",
    "        distance.append(cities.loc[i].geometry.distance(cities.loc[j].geometry))\n",
    "        centroidA = cities.loc[i][\"Centroid\"]\n",
    "        centroidB = cities.loc[j][\"Centroid\"]\n",
    "        centroidA = point_to_array(centroidA)\n",
    "        centroidB = point_to_array(centroidB)\n",
    "         # Calculate the relation between the two centroids of the polygons\n",
    "        rel.append(centroid.calc_bearing(centroidA, centroidB))\n",
    "\n",
    "# initialize data of lists.\n",
    "data = {'administrativeDistrictA': city1,\n",
    "        'administrativeDistrictB': city2,\n",
    "        'distance_between': distance,\n",
    "        'spatial_relation': rel}\n",
    "# Create DataFrame\n",
    "df = pd.DataFrame(data)\n",
    "#print(df)\n",
    "df.to_csv('distances_cities.csv')"
   ]
  },
  {
   "cell_type": "code",
   "execution_count": 28,
   "metadata": {},
   "outputs": [
    {
     "name": "stdout",
     "output_type": "stream",
     "text": [
      "396\n",
      "     administrativeDistrictA administrativeDistrictB  distance_between  \\\n",
      "0                         D1                      D1          0.000000   \n",
      "1                         D1                      D2      40339.774066   \n",
      "2                         D1                      D3          0.000000   \n",
      "3                         D1                      D4      20640.973226   \n",
      "4                         D1                      D5      35773.218366   \n",
      "...                      ...                     ...               ...   \n",
      "2804                     D53                     D49      21116.347230   \n",
      "2805                     D53                     D50          0.000000   \n",
      "2806                     D53                     D51          0.000000   \n",
      "2807                     D53                     D52          0.000000   \n",
      "2808                     D53                     D53          0.000000   \n",
      "\n",
      "     spatial_relation  \n",
      "0            northern  \n",
      "1             western  \n",
      "2            southern  \n",
      "3             western  \n",
      "4             western  \n",
      "...               ...  \n",
      "2804          western  \n",
      "2805     northwestern  \n",
      "2806          western  \n",
      "2807          western  \n",
      "2808         northern  \n",
      "\n",
      "[2809 rows x 4 columns]\n"
     ]
    }
   ],
   "source": [
    "#cities = geopandas.read_file(\"districts.geojson\")\n",
    "print(len(cities))\n",
    "print(df)"
   ]
  }
 ],
 "metadata": {
  "kernelspec": {
   "display_name": "arcgispro-py3",
   "language": "python",
   "name": "python3"
  },
  "language_info": {
   "codemirror_mode": {
    "name": "ipython",
    "version": 3
   },
   "file_extension": ".py",
   "mimetype": "text/x-python",
   "name": "python",
   "nbconvert_exporter": "python",
   "pygments_lexer": "ipython3",
   "version": "3.9.18"
  }
 },
 "nbformat": 4,
 "nbformat_minor": 2
}
