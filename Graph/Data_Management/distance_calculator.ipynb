{
 "cells": [
  {
   "cell_type": "code",
   "execution_count": 1,
   "metadata": {},
   "outputs": [],
   "source": [
    "# to calculate the minimum distance between two polygons\n",
    "\n",
    "#from sympy import Point, Polygon as sy\n",
    "import sympy as sy\n",
    "from shapely.geometry import Point, Polygon\n",
    "import geopandas\n",
    "import pandas as pd\n",
    "import geojson\n",
    "import json\n",
    "#import shapefile\n",
    "\n",
    "myshpfile = geopandas.read_file('C:/Users/Felix/Desktop/Studium/Uni Fächer/Master/2. Semester/Spatial Information Search/SIS-Course/Graph/Data_Management/Shapes/cities.shp')\n",
    "myshpfile.to_file('cities.geojson', driver='GeoJSON')\n",
    "#city_csv = geopandas.read_file(\"distances.csv\")\n",
    "cities = geopandas.read_file(\"cities.geojson\")\n",
    "#cities = cities.to_json()\n"
   ]
  },
  {
   "cell_type": "code",
   "execution_count": 4,
   "metadata": {},
   "outputs": [],
   "source": [
    "import geopandas\n",
    "# read in the districts and administrative districts\n",
    "myshpfile = geopandas.read_file('C:/Users/Felix/Desktop/Studium/Uni Fächer/Master/2. Semester/Spatial Information Search/SIS-Course/Graph/Data_Management/Shapes/administrativeDistricts.shp')\n",
    "myshpfile.to_file('administrativeDistricts.geojson', driver='GeoJSON')\n",
    "#city_csv = geopandas.read_file(\"distances.csv\")\n",
    "cities = geopandas.read_file(\"administrativeDistricts.geojson\")"
   ]
  },
  {
   "cell_type": "code",
   "execution_count": 5,
   "metadata": {},
   "outputs": [],
   "source": [
    "def point_to_array(p):\n",
    "\n",
    "    pointAx = ''\n",
    "    for i in range(7,21):\n",
    "        pointAx = pointAx + p[i]\n",
    "\n",
    "    pointAy = ''\n",
    "    for i in range(25,38):\n",
    "        pointAy = pointAy + p[i]\n",
    "\n",
    "    pointA = [pointAx, pointAy]\n",
    "    return pointA\n"
   ]
  },
  {
   "cell_type": "code",
   "execution_count": 6,
   "metadata": {},
   "outputs": [],
   "source": [
    "import centroid\n",
    "city1 = []\n",
    "city2 = []\n",
    "distance = []\n",
    "rel = []\n",
    "for i in range(len(cities)-1):\n",
    "     for j in range(len(cities)-1):\n",
    "        city1.append(cities.loc[i][\"ID\"])\n",
    "        city2.append(cities.loc[j][\"ID\"])\n",
    "        distance.append(cities.loc[i].geometry.distance(cities.loc[j].geometry))\n",
    "        centroidA = cities.loc[i][\"Centroid\"]\n",
    "        centroidB = cities.loc[j][\"Centroid\"]\n",
    "        centroidA = point_to_array(centroidA)\n",
    "        centroidB = point_to_array(centroidB)\n",
    "         # Calculate the relation between the two centroids of the polygons\n",
    "        rel.append(centroid.calc_bearing(centroidA, centroidB))\n",
    "\n",
    "# initialize data of lists.\n",
    "data = {'administrativeDistrictA': city1,\n",
    "        'administrativeDistrictB': city2,\n",
    "        'distance_between': distance,\n",
    "        'spatial_relation': rel}\n",
    "# Create DataFrame\n",
    "df = pd.DataFrame(data)\n",
    "#print(df)\n",
    "df.to_csv('distances_administrativeDistricts.csv')"
   ]
  }
 ],
 "metadata": {
  "kernelspec": {
   "display_name": "arcgispro-py3",
   "language": "python",
   "name": "python3"
  },
  "language_info": {
   "codemirror_mode": {
    "name": "ipython",
    "version": 3
   },
   "file_extension": ".py",
   "mimetype": "text/x-python",
   "name": "python",
   "nbconvert_exporter": "python",
   "pygments_lexer": "ipython3",
   "version": "3.9.18"
  }
 },
 "nbformat": 4,
 "nbformat_minor": 2
}
